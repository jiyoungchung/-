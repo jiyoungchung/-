{
 "cells": [
  {
   "cell_type": "markdown",
   "id": "fb172ca5",
   "metadata": {},
   "source": [
    "### import\n",
    "- 일조합 : 일사시간(구름이나 안개 따위에 가려지지 아니하고 햇볕이 실제로 내리쬐는 시간)의 합계"
   ]
  },
  {
   "cell_type": "markdown",
   "id": "86cd5298",
   "metadata": {},
   "source": [
    "### 기온"
   ]
  },
  {
   "cell_type": "code",
   "execution_count": 66,
   "id": "bf58bdf5",
   "metadata": {},
   "outputs": [],
   "source": [
    "import pandas as pd\n",
    "import numpy as np"
   ]
  },
  {
   "cell_type": "code",
   "execution_count": 83,
   "id": "990ead2d",
   "metadata": {
    "scrolled": true
   },
   "outputs": [
    {
     "data": {
      "text/html": [
       "<div>\n",
       "<style scoped>\n",
       "    .dataframe tbody tr th:only-of-type {\n",
       "        vertical-align: middle;\n",
       "    }\n",
       "\n",
       "    .dataframe tbody tr th {\n",
       "        vertical-align: top;\n",
       "    }\n",
       "\n",
       "    .dataframe thead th {\n",
       "        text-align: right;\n",
       "    }\n",
       "</style>\n",
       "<table border=\"1\" class=\"dataframe\">\n",
       "  <thead>\n",
       "    <tr style=\"text-align: right;\">\n",
       "      <th></th>\n",
       "      <th>\\t\\t지점번호</th>\n",
       "      <th>지점명</th>\n",
       "      <th>일시</th>\n",
       "      <th>평균기온(℃)</th>\n",
       "      <th>최고기온(℃)</th>\n",
       "      <th>\\t최고기온시각</th>\n",
       "      <th>최저기온(℃)</th>\n",
       "      <th>최저기온시각일교차</th>\n",
       "      <th>Unnamed: 8</th>\n",
       "    </tr>\n",
       "  </thead>\n",
       "  <tbody>\n",
       "    <tr>\n",
       "      <th>0</th>\n",
       "      <td>\\t\\t192</td>\n",
       "      <td>진주</td>\n",
       "      <td>2016-01-01</td>\n",
       "      <td>-0.1</td>\n",
       "      <td>8.7</td>\n",
       "      <td>14:23</td>\n",
       "      <td>-6.7</td>\n",
       "      <td>6:48</td>\n",
       "      <td>15.4</td>\n",
       "    </tr>\n",
       "    <tr>\n",
       "      <th>1</th>\n",
       "      <td>\\t\\t192</td>\n",
       "      <td>진주</td>\n",
       "      <td>2016-01-02</td>\n",
       "      <td>1.8</td>\n",
       "      <td>10.8</td>\n",
       "      <td>15:18</td>\n",
       "      <td>-3.6</td>\n",
       "      <td>7:32</td>\n",
       "      <td>14.4</td>\n",
       "    </tr>\n",
       "    <tr>\n",
       "      <th>2</th>\n",
       "      <td>\\t\\t192</td>\n",
       "      <td>진주</td>\n",
       "      <td>2016-01-03</td>\n",
       "      <td>4.0</td>\n",
       "      <td>14.5</td>\n",
       "      <td>15:19</td>\n",
       "      <td>-2.2</td>\n",
       "      <td>3:42</td>\n",
       "      <td>16.7</td>\n",
       "    </tr>\n",
       "  </tbody>\n",
       "</table>\n",
       "</div>"
      ],
      "text/plain": [
       "  \\t\\t지점번호 지점명          일시  평균기온(℃)  최고기온(℃) \\t최고기온시각  최저기온(℃) 최저기온시각일교차  \\\n",
       "0  \\t\\t192  진주  2016-01-01     -0.1      8.7    14:23     -6.7      6:48   \n",
       "1  \\t\\t192  진주  2016-01-02      1.8     10.8    15:18     -3.6      7:32   \n",
       "2  \\t\\t192  진주  2016-01-03      4.0     14.5    15:19     -2.2      3:42   \n",
       "\n",
       "   Unnamed: 8  \n",
       "0        15.4  \n",
       "1        14.4  \n",
       "2        16.7  "
      ]
     },
     "execution_count": 83,
     "metadata": {},
     "output_type": "execute_result"
    }
   ],
   "source": [
    "tem = pd.read_csv(\"C:/Users/user/Documents/python/Dacon/data/기상청/20160201_20210409_기온.csv\", encoding = \"cp949\")\n",
    "tem = tem.fillna(0)\n",
    "tem.head(3)"
   ]
  },
  {
   "cell_type": "code",
   "execution_count": 84,
   "id": "3f9c40b0",
   "metadata": {},
   "outputs": [
    {
     "data": {
      "text/html": [
       "<div>\n",
       "<style scoped>\n",
       "    .dataframe tbody tr th:only-of-type {\n",
       "        vertical-align: middle;\n",
       "    }\n",
       "\n",
       "    .dataframe tbody tr th {\n",
       "        vertical-align: top;\n",
       "    }\n",
       "\n",
       "    .dataframe thead th {\n",
       "        text-align: right;\n",
       "    }\n",
       "</style>\n",
       "<table border=\"1\" class=\"dataframe\">\n",
       "  <thead>\n",
       "    <tr style=\"text-align: right;\">\n",
       "      <th></th>\n",
       "      <th>일시</th>\n",
       "      <th>평균기온(℃)</th>\n",
       "    </tr>\n",
       "  </thead>\n",
       "  <tbody>\n",
       "    <tr>\n",
       "      <th>2197</th>\n",
       "      <td>0</td>\n",
       "      <td>0.0</td>\n",
       "    </tr>\n",
       "    <tr>\n",
       "      <th>2198</th>\n",
       "      <td>0</td>\n",
       "      <td>0.0</td>\n",
       "    </tr>\n",
       "    <tr>\n",
       "      <th>2199</th>\n",
       "      <td>0</td>\n",
       "      <td>0.0</td>\n",
       "    </tr>\n",
       "  </tbody>\n",
       "</table>\n",
       "</div>"
      ],
      "text/plain": [
       "     일시  평균기온(℃)\n",
       "2197  0      0.0\n",
       "2198  0      0.0\n",
       "2199  0      0.0"
      ]
     },
     "execution_count": 84,
     "metadata": {},
     "output_type": "execute_result"
    }
   ],
   "source": [
    "tem = tem[[\"일시\", \"평균기온(℃)\"]]\n",
    "tem = tem.dropna(subset = [\"일시\"])\n",
    "\n",
    "tem.tail(3)"
   ]
  },
  {
   "cell_type": "markdown",
   "id": "6c1a5fa8",
   "metadata": {},
   "source": [
    "### 강수"
   ]
  },
  {
   "cell_type": "code",
   "execution_count": 85,
   "id": "4ee7655e",
   "metadata": {},
   "outputs": [
    {
     "data": {
      "text/html": [
       "<div>\n",
       "<style scoped>\n",
       "    .dataframe tbody tr th:only-of-type {\n",
       "        vertical-align: middle;\n",
       "    }\n",
       "\n",
       "    .dataframe tbody tr th {\n",
       "        vertical-align: top;\n",
       "    }\n",
       "\n",
       "    .dataframe thead th {\n",
       "        text-align: right;\n",
       "    }\n",
       "</style>\n",
       "<table border=\"1\" class=\"dataframe\">\n",
       "  <thead>\n",
       "    <tr style=\"text-align: right;\">\n",
       "      <th></th>\n",
       "      <th>\\t지점번호</th>\n",
       "      <th>지점명</th>\n",
       "      <th>일시</th>\n",
       "      <th>강수량(mm)</th>\n",
       "      <th>1시간최다강수량(mm)</th>\n",
       "      <th>1시간최다강수량시각</th>\n",
       "    </tr>\n",
       "  </thead>\n",
       "  <tbody>\n",
       "    <tr>\n",
       "      <th>0</th>\n",
       "      <td>\\t192</td>\n",
       "      <td>진주</td>\n",
       "      <td>2016-01-01</td>\n",
       "      <td>NaN</td>\n",
       "      <td>NaN</td>\n",
       "      <td>NaN</td>\n",
       "    </tr>\n",
       "    <tr>\n",
       "      <th>1</th>\n",
       "      <td>\\t192</td>\n",
       "      <td>진주</td>\n",
       "      <td>2016-01-02</td>\n",
       "      <td>NaN</td>\n",
       "      <td>NaN</td>\n",
       "      <td>NaN</td>\n",
       "    </tr>\n",
       "    <tr>\n",
       "      <th>2</th>\n",
       "      <td>\\t192</td>\n",
       "      <td>진주</td>\n",
       "      <td>2016-01-03</td>\n",
       "      <td>NaN</td>\n",
       "      <td>NaN</td>\n",
       "      <td>NaN</td>\n",
       "    </tr>\n",
       "  </tbody>\n",
       "</table>\n",
       "</div>"
      ],
      "text/plain": [
       "  \\t지점번호 지점명          일시  강수량(mm)  1시간최다강수량(mm) 1시간최다강수량시각\n",
       "0  \\t192  진주  2016-01-01      NaN           NaN        NaN\n",
       "1  \\t192  진주  2016-01-02      NaN           NaN        NaN\n",
       "2  \\t192  진주  2016-01-03      NaN           NaN        NaN"
      ]
     },
     "execution_count": 85,
     "metadata": {},
     "output_type": "execute_result"
    }
   ],
   "source": [
    "rain = pd.read_csv(\"C:/Users/user/Documents/python/Dacon/data/기상청/20160201_20210409_강수량.csv\", encoding = \"cp949\")\n",
    "rain.head(3)"
   ]
  },
  {
   "cell_type": "code",
   "execution_count": 86,
   "id": "2afb18cd",
   "metadata": {},
   "outputs": [
    {
     "data": {
      "text/plain": [
       "일시         0\n",
       "강수량(mm)    0\n",
       "dtype: int64"
      ]
     },
     "execution_count": 86,
     "metadata": {},
     "output_type": "execute_result"
    }
   ],
   "source": [
    "rain = rain[[\"일시\", \"강수량(mm)\"]]\n",
    "rain[\"강수량(mm)\"] = rain[\"강수량(mm)\"].fillna(0)\n",
    "rain = rain.dropna(subset = [\"일시\"])\n",
    "rain = rain.fillna(0)\n",
    "rain.isnull().sum()"
   ]
  },
  {
   "cell_type": "markdown",
   "id": "7bf87257",
   "metadata": {},
   "source": [
    "### 일조"
   ]
  },
  {
   "cell_type": "code",
   "execution_count": 87,
   "id": "f4193980",
   "metadata": {},
   "outputs": [
    {
     "data": {
      "text/html": [
       "<div>\n",
       "<style scoped>\n",
       "    .dataframe tbody tr th:only-of-type {\n",
       "        vertical-align: middle;\n",
       "    }\n",
       "\n",
       "    .dataframe tbody tr th {\n",
       "        vertical-align: top;\n",
       "    }\n",
       "\n",
       "    .dataframe thead th {\n",
       "        text-align: right;\n",
       "    }\n",
       "</style>\n",
       "<table border=\"1\" class=\"dataframe\">\n",
       "  <thead>\n",
       "    <tr style=\"text-align: right;\">\n",
       "      <th></th>\n",
       "      <th>\\t\\t지점번호</th>\n",
       "      <th>지점명</th>\n",
       "      <th>일시</th>\n",
       "      <th>일조합</th>\n",
       "      <th>일조율</th>\n",
       "      <th>일사합</th>\n",
       "    </tr>\n",
       "  </thead>\n",
       "  <tbody>\n",
       "    <tr>\n",
       "      <th>0</th>\n",
       "      <td>\\t\\t192</td>\n",
       "      <td>진주</td>\n",
       "      <td>2016-01-01</td>\n",
       "      <td>8.6</td>\n",
       "      <td>87.8</td>\n",
       "      <td>10.63</td>\n",
       "    </tr>\n",
       "    <tr>\n",
       "      <th>1</th>\n",
       "      <td>\\t\\t192</td>\n",
       "      <td>진주</td>\n",
       "      <td>2016-01-02</td>\n",
       "      <td>5.4</td>\n",
       "      <td>54.5</td>\n",
       "      <td>7.02</td>\n",
       "    </tr>\n",
       "    <tr>\n",
       "      <th>2</th>\n",
       "      <td>\\t\\t192</td>\n",
       "      <td>진주</td>\n",
       "      <td>2016-01-03</td>\n",
       "      <td>6.5</td>\n",
       "      <td>65.7</td>\n",
       "      <td>8.64</td>\n",
       "    </tr>\n",
       "    <tr>\n",
       "      <th>3</th>\n",
       "      <td>\\t\\t192</td>\n",
       "      <td>진주</td>\n",
       "      <td>2016-01-04</td>\n",
       "      <td>6.6</td>\n",
       "      <td>66.7</td>\n",
       "      <td>9.25</td>\n",
       "    </tr>\n",
       "    <tr>\n",
       "      <th>4</th>\n",
       "      <td>\\t\\t192</td>\n",
       "      <td>진주</td>\n",
       "      <td>2016-01-05</td>\n",
       "      <td>1.1</td>\n",
       "      <td>11.1</td>\n",
       "      <td>2.83</td>\n",
       "    </tr>\n",
       "  </tbody>\n",
       "</table>\n",
       "</div>"
      ],
      "text/plain": [
       "  \\t\\t지점번호 지점명          일시  일조합   일조율    일사합\n",
       "0  \\t\\t192  진주  2016-01-01  8.6  87.8  10.63\n",
       "1  \\t\\t192  진주  2016-01-02  5.4  54.5   7.02\n",
       "2  \\t\\t192  진주  2016-01-03  6.5  65.7   8.64\n",
       "3  \\t\\t192  진주  2016-01-04  6.6  66.7   9.25\n",
       "4  \\t\\t192  진주  2016-01-05  1.1  11.1   2.83"
      ]
     },
     "execution_count": 87,
     "metadata": {},
     "output_type": "execute_result"
    }
   ],
   "source": [
    "sun = pd.read_csv(\"C:/Users/user/Documents/python/Dacon/data/기상청/20160201_20210409_일조일사.csv\", encoding = \"cp949\")\n",
    "sun = sun.fillna(0)\n",
    "sun.head()"
   ]
  },
  {
   "cell_type": "code",
   "execution_count": 88,
   "id": "a2f76f70",
   "metadata": {},
   "outputs": [
    {
     "data": {
      "text/html": [
       "<div>\n",
       "<style scoped>\n",
       "    .dataframe tbody tr th:only-of-type {\n",
       "        vertical-align: middle;\n",
       "    }\n",
       "\n",
       "    .dataframe tbody tr th {\n",
       "        vertical-align: top;\n",
       "    }\n",
       "\n",
       "    .dataframe thead th {\n",
       "        text-align: right;\n",
       "    }\n",
       "</style>\n",
       "<table border=\"1\" class=\"dataframe\">\n",
       "  <thead>\n",
       "    <tr style=\"text-align: right;\">\n",
       "      <th></th>\n",
       "      <th>일시</th>\n",
       "      <th>일조합</th>\n",
       "    </tr>\n",
       "  </thead>\n",
       "  <tbody>\n",
       "    <tr>\n",
       "      <th>2191</th>\n",
       "      <td>2021-12-31</td>\n",
       "      <td>8.5</td>\n",
       "    </tr>\n",
       "    <tr>\n",
       "      <th>2192</th>\n",
       "      <td>0</td>\n",
       "      <td>0.0</td>\n",
       "    </tr>\n",
       "    <tr>\n",
       "      <th>2193</th>\n",
       "      <td>0</td>\n",
       "      <td>0.0</td>\n",
       "    </tr>\n",
       "  </tbody>\n",
       "</table>\n",
       "</div>"
      ],
      "text/plain": [
       "              일시  일조합\n",
       "2191  2021-12-31  8.5\n",
       "2192           0  0.0\n",
       "2193           0  0.0"
      ]
     },
     "execution_count": 88,
     "metadata": {},
     "output_type": "execute_result"
    }
   ],
   "source": [
    "sun = sun[[\"일시\", \"일조합\"]]\n",
    "sun = sun.dropna(subset = [\"일시\"])\n",
    "\n",
    "sun.tail(3)"
   ]
  },
  {
   "cell_type": "markdown",
   "id": "88b27aba",
   "metadata": {},
   "source": [
    "### concat"
   ]
  },
  {
   "cell_type": "code",
   "execution_count": 89,
   "id": "85c7d1ed",
   "metadata": {},
   "outputs": [
    {
     "data": {
      "text/html": [
       "<div>\n",
       "<style scoped>\n",
       "    .dataframe tbody tr th:only-of-type {\n",
       "        vertical-align: middle;\n",
       "    }\n",
       "\n",
       "    .dataframe tbody tr th {\n",
       "        vertical-align: top;\n",
       "    }\n",
       "\n",
       "    .dataframe thead th {\n",
       "        text-align: right;\n",
       "    }\n",
       "</style>\n",
       "<table border=\"1\" class=\"dataframe\">\n",
       "  <thead>\n",
       "    <tr style=\"text-align: right;\">\n",
       "      <th></th>\n",
       "      <th>일시</th>\n",
       "      <th>평균기온(℃)</th>\n",
       "      <th>강수량(mm)</th>\n",
       "      <th>일조합</th>\n",
       "    </tr>\n",
       "  </thead>\n",
       "  <tbody>\n",
       "    <tr>\n",
       "      <th>2196</th>\n",
       "      <td>0</td>\n",
       "      <td>0.0</td>\n",
       "      <td>NaN</td>\n",
       "      <td>NaN</td>\n",
       "    </tr>\n",
       "    <tr>\n",
       "      <th>2197</th>\n",
       "      <td>0</td>\n",
       "      <td>0.0</td>\n",
       "      <td>NaN</td>\n",
       "      <td>NaN</td>\n",
       "    </tr>\n",
       "    <tr>\n",
       "      <th>2198</th>\n",
       "      <td>0</td>\n",
       "      <td>0.0</td>\n",
       "      <td>NaN</td>\n",
       "      <td>NaN</td>\n",
       "    </tr>\n",
       "    <tr>\n",
       "      <th>2199</th>\n",
       "      <td>0</td>\n",
       "      <td>0.0</td>\n",
       "      <td>NaN</td>\n",
       "      <td>NaN</td>\n",
       "    </tr>\n",
       "  </tbody>\n",
       "</table>\n",
       "</div>"
      ],
      "text/plain": [
       "     일시  평균기온(℃)  강수량(mm)  일조합\n",
       "2196  0      0.0      NaN  NaN\n",
       "2197  0      0.0      NaN  NaN\n",
       "2198  0      0.0      NaN  NaN\n",
       "2199  0      0.0      NaN  NaN"
      ]
     },
     "execution_count": 89,
     "metadata": {},
     "output_type": "execute_result"
    }
   ],
   "source": [
    "tem_rain_sun = pd.concat([tem, rain, sun], axis = 1)\n",
    "tem_rain_sun = tem_rain_sun.iloc[:,[0,1,3,5]]\n",
    "tem_rain_sun.tail(4)"
   ]
  },
  {
   "cell_type": "raw",
   "id": "4af3a0d5",
   "metadata": {},
   "source": [
    "# 2021-04-09 까지만 추출 => 나중에 해당 일자만 병합할 거니까 굳이 안 해도 됨\n",
    "tem_rain_sun[tem_rain_sun[\"일시\"] <= '2021-04-09']"
   ]
  },
  {
   "cell_type": "markdown",
   "id": "8d82f983",
   "metadata": {},
   "source": [
    "### SAVE"
   ]
  },
  {
   "cell_type": "code",
   "execution_count": 90,
   "id": "7eec14bd",
   "metadata": {},
   "outputs": [],
   "source": [
    "tem_rain_sun.to_csv(\"C:/Users/user/Documents/python/Dacon/data/기상청/20160201_20210409_기온_강수량_일조_병합.csv\", encoding = \"cp949\", index = False)"
   ]
  }
 ],
 "metadata": {
  "kernelspec": {
   "display_name": "Python 3 (ipykernel)",
   "language": "python",
   "name": "python3"
  },
  "language_info": {
   "codemirror_mode": {
    "name": "ipython",
    "version": 3
   },
   "file_extension": ".py",
   "mimetype": "text/x-python",
   "name": "python",
   "nbconvert_exporter": "python",
   "pygments_lexer": "ipython3",
   "version": "3.9.7"
  },
  "toc": {
   "base_numbering": 1,
   "nav_menu": {},
   "number_sections": true,
   "sideBar": true,
   "skip_h1_title": false,
   "title_cell": "Table of Contents",
   "title_sidebar": "Contents",
   "toc_cell": false,
   "toc_position": {
    "height": "calc(100% - 180px)",
    "left": "10px",
    "top": "150px",
    "width": "171.825px"
   },
   "toc_section_display": true,
   "toc_window_display": true
  },
  "varInspector": {
   "cols": {
    "lenName": 16,
    "lenType": 16,
    "lenVar": 40
   },
   "kernels_config": {
    "python": {
     "delete_cmd_postfix": "",
     "delete_cmd_prefix": "del ",
     "library": "var_list.py",
     "varRefreshCmd": "print(var_dic_list())"
    },
    "r": {
     "delete_cmd_postfix": ") ",
     "delete_cmd_prefix": "rm(",
     "library": "var_list.r",
     "varRefreshCmd": "cat(var_dic_list()) "
    }
   },
   "types_to_exclude": [
    "module",
    "function",
    "builtin_function_or_method",
    "instance",
    "_Feature"
   ],
   "window_display": false
  }
 },
 "nbformat": 4,
 "nbformat_minor": 5
}
